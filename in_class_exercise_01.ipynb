{
  "nbformat": 4,
  "nbformat_minor": 0,
  "metadata": {
    "colab": {
      "provenance": [],
      "authorship_tag": "ABX9TyOVNh19HnSaiqfmrpqhU65j",
      "include_colab_link": true
    },
    "kernelspec": {
      "name": "python3",
      "display_name": "Python 3"
    },
    "language_info": {
      "name": "python"
    }
  },
  "cells": [
    {
      "cell_type": "markdown",
      "metadata": {
        "id": "view-in-github",
        "colab_type": "text"
      },
      "source": [
        "<a href=\"https://colab.research.google.com/github/skylerasf/Skyler_DTSC3020_Fall2025/blob/main/in_class_exercise_01.ipynb\" target=\"_parent\"><img src=\"https://colab.research.google.com/assets/colab-badge.svg\" alt=\"Open In Colab\"/></a>"
      ]
    },
    {
      "cell_type": "code",
      "source": [
        "print(\"Welcome to python\")\n",
        "print(\"Hello World\")\n",
        "print(\"World\")\n",
        "print(\"ok\")\n",
        "print(\"hi\")\n",
        "name= \"Skyler\"\n",
        "print(name)\n",
        "print(\"Welcome to python,\", name)"
      ],
      "metadata": {
        "colab": {
          "base_uri": "https://localhost:8080/"
        },
        "id": "qyQCnOeNRM5U",
        "outputId": "d4aa45e4-98ee-40b1-ca21-c641878dcbab"
      },
      "execution_count": 5,
      "outputs": [
        {
          "output_type": "stream",
          "name": "stdout",
          "text": [
            "Welcome to python\n",
            "Hello World\n",
            "World\n",
            "ok\n",
            "hi\n",
            "Skyler\n",
            "Welcome to python Skyler\n"
          ]
        }
      ]
    }
  ]
}