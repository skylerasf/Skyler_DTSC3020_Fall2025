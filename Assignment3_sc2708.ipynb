{
  "cells": [
    {
      "cell_type": "markdown",
      "metadata": {
        "id": "view-in-github",
        "colab_type": "text"
      },
      "source": [
        "<a href=\"https://colab.research.google.com/github/skylerasf/Skyler_DTSC3020_Fall2025/blob/main/Assignment3_sc2708.ipynb\" target=\"_parent\"><img src=\"https://colab.research.google.com/assets/colab-badge.svg\" alt=\"Open In Colab\"/></a>"
      ]
    },
    {
      "cell_type": "markdown",
      "metadata": {
        "id": "nevCG4Qs0b8R"
      },
      "source": [
        "# DTSC 3020 – Assignment 3\n",
        "\n",
        "This exercise focuses on **if statements and conditional logic** in Python and is designed to help students practice decision-making structures.\n",
        "\n",
        "**Total points:** 5  \n",
        "**Deadline:** Friday at midnight  \n",
        "**Submission:** Upload your Python file to your GitHub repository and submit **only your GitHub link**.\n",
        "\n",
        "### Expectations\n",
        "- Write complete answers and run all cells before submission.\n",
        "- Keep the notebook clean (no unnecessary code).\n",
        "\n"
      ],
      "id": "nevCG4Qs0b8R"
    },
    {
      "cell_type": "markdown",
      "metadata": {
        "id": "gfumj0DY0b8f"
      },
      "source": [
        "## Question 1 – Movie Ticket System\n",
        "Write a Python code that checks the price of a movie ticket.\n",
        "If the age is between 0 and 11 it is Child, if between 12 and 17 it is Teen, and if 18 or older it is Adult.\n",
        "Print the category and the ticket price (you choose the price).\n",
        "Run the program with age = 16."
      ],
      "id": "gfumj0DY0b8f"
    },
    {
      "cell_type": "code",
      "metadata": {
        "id": "67TGDT6w0b8k",
        "colab": {
          "base_uri": "https://localhost:8080/"
        },
        "outputId": "260c258b-ca92-40e6-8d10-5c67063b4836"
      },
      "execution_count": 10,
      "outputs": [
        {
          "output_type": "stream",
          "name": "stdout",
          "text": [
            "Category: Teen\n",
            "Price: $10.00\n"
          ]
        }
      ],
      "source": [
        "age = 16\n",
        "child_price = 8.00\n",
        "teen_price = 10.00\n",
        "adult_price = 12.00\n",
        "\n",
        "if age >= 0 and age <= 11:\n",
        "    category = \"Child\"\n",
        "    price = child_price\n",
        "elif age >= 12 and age <= 17:\n",
        "    category = \"Teen\"\n",
        "    price = teen_price\n",
        "elif age >= 18:\n",
        "    category = \"Adult\"\n",
        "    price = adult_price\n",
        "else:\n",
        "    print(\"Invalid Age\")\n",
        "    exit()\n",
        "\n",
        "print(f\"Category: {category}\")\n",
        "print(f\"Price: ${price:.2f}\")"
      ],
      "id": "67TGDT6w0b8k"
    },
    {
      "cell_type": "markdown",
      "metadata": {
        "id": "_tUFNVKT0b8r"
      },
      "source": [
        "## Question 2 – Online Store Discount\n",
        "Write a Python code that applies a discount based on the shopping cart total.\n",
        "If the total is less than 50 dollars there is no discount, if the total is between 50 and 99 dollars there is a 10 percent discount, and if the total is 100 dollars or more there is a 20 percent discount.\n",
        "Print the original total, the discount, and the final price.\n",
        "Run the program with cart_total = 85."
      ],
      "id": "_tUFNVKT0b8r"
    },
    {
      "cell_type": "code",
      "metadata": {
        "id": "yTtX719o0b8v",
        "colab": {
          "base_uri": "https://localhost:8080/"
        },
        "outputId": "cf70b6ed-5685-4871-c9bd-c92eac3bfb75"
      },
      "execution_count": 12,
      "outputs": [
        {
          "output_type": "stream",
          "name": "stdout",
          "text": [
            "Original Total: $90.00\n",
            "Discount (10%): $9.00\n",
            "Final Price: $81.00\n"
          ]
        }
      ],
      "source": [
        "from typing_extensions import final\n",
        "cart_total = 85\n",
        "\n",
        "if cart_total < 50:\n",
        "    discount = 0\n",
        "    discount_percent = \"0%\"\n",
        "elif cart_total >= 50 and cart_total <= 99:\n",
        "    discount = cart_total * 0.10\n",
        "    discount_percent = \"10%\"\n",
        "else:\n",
        "    discount = cart_total * 0.20\n",
        "    discount_percent = \"20%\"\n",
        "\n",
        "final_price = cart_total - discount\n",
        "\n",
        "print(f\"Original Total: ${cart_total:.2f}\")\n",
        "print(f\"Discount ({discount_percent}): ${discount:.2f}\")\n",
        "print(f\"Final Price: ${final_price:.2f}\")"
      ],
      "id": "yTtX719o0b8v"
    },
    {
      "cell_type": "markdown",
      "metadata": {
        "id": "uOUYYC870b8x"
      },
      "source": [
        "## Question 3 – Exam Grading\n",
        "Write a Python code that gives a letter grade for a score.\n",
        "If the score is between 90 and 100 the grade is A, if between 80 and 89 the grade is B, if between 70 and 79 the grade is C, if between 60 and 69 the grade is D, and if below 60 the grade is F.\n",
        "Print the grade and a short message.\n",
        "Run the program with score = 73."
      ],
      "id": "uOUYYC870b8x"
    },
    {
      "cell_type": "code",
      "metadata": {
        "id": "HDtf_YLG0b8y",
        "colab": {
          "base_uri": "https://localhost:8080/"
        },
        "outputId": "b6f94a7b-cfda-4697-a1fa-914b27751230"
      },
      "execution_count": 15,
      "outputs": [
        {
          "output_type": "stream",
          "name": "stdout",
          "text": [
            "Score: 98\n",
            "Grade: A\n",
            "Message: Excellent!\n"
          ]
        }
      ],
      "source": [
        "score = 73\n",
        "\n",
        "if score >= 90 and score <= 100:\n",
        "    grade = \"A\"\n",
        "    message = \"Excellent!\"\n",
        "elif score >= 80 and score <= 89:\n",
        "    grade = \"B\"\n",
        "    message = \"Good job!\"\n",
        "elif score >= 70 and score <= 79:\n",
        "    grade = \"C\"\n",
        "    message = \"Keep up the good work!\"\n",
        "elif score >= 60 and score <= 69:\n",
        "    grade = \"D\"\n",
        "    message = \"You can do better!\"\n",
        "else:\n",
        "    grade = \"F\"\n",
        "    message = \"Cmon bro.\"\n",
        "\n",
        "print(\"Score: \" +str(score))\n",
        "print(\"Grade: \" + grade)\n",
        "print(\"Message: \" + message)"
      ],
      "id": "HDtf_YLG0b8y"
    },
    {
      "cell_type": "markdown",
      "metadata": {
        "id": "ZCIKM6Xs0b80"
      },
      "source": [
        "## Question 4 – Parking Fee\n",
        "Write a Python code that calculates parking fees.\n",
        "If the car is parked for 0 to 2 hours the parking is free, if the car is parked for 3 to 5 hours the fee is 3 dollars per hour, and if the car is parked for more than 5 hours the fee is 3 dollars per hour for the first three hours after free and then 5 dollars per hour for the rest.\n",
        "Print the number of hours and the total fee.\n",
        "Run the program with hours = 6."
      ],
      "id": "ZCIKM6Xs0b80"
    },
    {
      "cell_type": "code",
      "metadata": {
        "id": "g3a_sPo50b81",
        "colab": {
          "base_uri": "https://localhost:8080/"
        },
        "outputId": "70d3f068-55d0-4968-d52d-0a05f4555109"
      },
      "execution_count": 19,
      "outputs": [
        {
          "output_type": "stream",
          "name": "stdout",
          "text": [
            "Number of hours parked: 6\n",
            "Total parking fee: $11\n"
          ]
        }
      ],
      "source": [
        "hours = 6\n",
        "\n",
        "if hours >= 0 and hours <= 2:\n",
        "    fee = 0\n",
        "elif hours >= 3 and hours <= 5:\n",
        "    fee = (hours - 2) * 3\n",
        "else:\n",
        "    fee = 6 + (hours - 5) * 5\n",
        "\n",
        "print(\"Number of hours parked: \" + str(hours))\n",
        "print(\"Total parking fee: $\" + str(fee))"
      ],
      "id": "g3a_sPo50b81"
    },
    {
      "cell_type": "markdown",
      "metadata": {
        "id": "XBf0-SPz0b83"
      },
      "source": [
        "## Question 5 – Cafeteria Menu\n",
        "Write a Python code that creates a list with three food items.\n",
        "Check if an order is in the list.\n",
        "If the item is in the list print a confirmation, and if the item is not in the list print a polite message.\n",
        "Run the program with menu = ['pizza','salad','sandwich'] and order = 'salad'."
      ],
      "id": "XBf0-SPz0b83"
    },
    {
      "cell_type": "code",
      "metadata": {
        "id": "y52UEMoX0b85",
        "colab": {
          "base_uri": "https://localhost:8080/"
        },
        "outputId": "0c0050db-b75f-4d9f-d2c4-dea593a8a637"
      },
      "execution_count": 18,
      "outputs": [
        {
          "output_type": "stream",
          "name": "stdout",
          "text": [
            "Sorry, we don't have burgeron our menu today.\n",
            "Please choose something else.\n"
          ]
        }
      ],
      "source": [
        "menu = ['pizza', 'salad', 'sandwich']\n",
        "order = 'salad'\n",
        "\n",
        "if order in menu:\n",
        "    print(\"Thank you for your order!\")\n",
        "    print(\"Your \" + order + \"will be ready soon.\")\n",
        "else:\n",
        "    print(\"Sorry, we don't have \" + order + \"on our menu today.\")\n",
        "    print(\"Please choose something else.\")\n",
        "\n",
        "\n",
        "\n"
      ],
      "id": "y52UEMoX0b85"
    },
    {
      "cell_type": "markdown",
      "metadata": {
        "id": "-60rL71F0b86"
      },
      "source": [
        "## Question 6 – Job Application Filter\n",
        "Write a Python code that checks if a person is eligible for a job.\n",
        "If the person is older than 22 and has more than 2 years of experience print Accepted.\n",
        "Otherwise print Not Accepted.\n",
        "Run the program with age = 23 and experience = 1."
      ],
      "id": "-60rL71F0b86"
    },
    {
      "cell_type": "code",
      "metadata": {
        "id": "-h964CqY0b88",
        "colab": {
          "base_uri": "https://localhost:8080/"
        },
        "outputId": "8f5cafd4-cb49-4dc6-aa8c-941341f6cf49"
      },
      "execution_count": 23,
      "outputs": [
        {
          "output_type": "stream",
          "name": "stdout",
          "text": [
            "Not Accepted\n",
            "Age: 23\n",
            "Experience: 1 years\n",
            "Requirements: Over 22 years old AND more than 2 years experience.\n"
          ]
        }
      ],
      "source": [
        "age = 23\n",
        "experience = 1\n",
        "\n",
        "if age > 22 and experience > 2:\n",
        "    print(\"Accepted\")\n",
        "else:\n",
        "    print(\"Not Accepted\")\n",
        "\n",
        "print(\"Age: \" + str(age))\n",
        "print(\"Experience: \" + str(experience) + \" years\")\n",
        "print(\"Requirements: Over 22 years old AND more than 2 years experience.\")"
      ],
      "id": "-h964CqY0b88"
    },
    {
      "cell_type": "markdown",
      "metadata": {
        "id": "MOMMxnuE0b8-"
      },
      "source": [
        "## Question 7 – Clothing Advice\n",
        "Write a Python code that suggests clothing based on the temperature.\n",
        "If the temperature is below 10 print Coat and gloves, if the temperature is between 10 and 19 print Jacket, and if the temperature is 20 or more print T-shirt.\n",
        "Run the program with temperature = 15."
      ],
      "id": "MOMMxnuE0b8-"
    },
    {
      "cell_type": "code",
      "metadata": {
        "id": "V6RtrCOa0b8_",
        "colab": {
          "base_uri": "https://localhost:8080/"
        },
        "outputId": "3352d191-6bb4-44fa-ee7a-c13fce8e2c05"
      },
      "execution_count": 28,
      "outputs": [
        {
          "output_type": "stream",
          "name": "stdout",
          "text": [
            "Suggest: Jacket\n",
            "Temperature: 15 degrees\n"
          ]
        }
      ],
      "source": [
        "temperature = 15\n",
        "\n",
        "if temperature < 10:\n",
        "    print(\"Suggest: Coat and Gloves\")\n",
        "elif temperature >= 10 and temperature <= 19:\n",
        "    print(\"Suggest: Jacket\")\n",
        "else:\n",
        "    print(\"Suggest: T-shirt\")\n",
        "\n",
        "print(\"Temperature: \" + str(temperature) + \" degrees\")"
      ],
      "id": "V6RtrCOa0b8_"
    },
    {
      "cell_type": "markdown",
      "metadata": {
        "id": "R-i9Jzpn0b9A"
      },
      "source": [
        "## Question 8 – Loan Eligibility\n",
        "Write a Python code that checks loan eligibility.\n",
        "If the salary is at least 3000 and the credit score is at least 650 print Loan Approved, otherwise print Loan Denied.\n",
        "Run the program with salary = 3500 and credit_score = 640."
      ],
      "id": "R-i9Jzpn0b9A"
    },
    {
      "cell_type": "code",
      "metadata": {
        "id": "2M0s0bC40b9B",
        "colab": {
          "base_uri": "https://localhost:8080/"
        },
        "outputId": "22e5fecc-1198-46af-e740-359fed8a7718"
      },
      "execution_count": 31,
      "outputs": [
        {
          "output_type": "stream",
          "name": "stdout",
          "text": [
            "Loan Approved\n",
            "Salary: $3500\n",
            "Credit Score: 690\n",
            "Requirements: Salary of at least $3000 AND credit score of at least 650.\n"
          ]
        }
      ],
      "source": [
        "salary = 3500\n",
        "credit_score = 640\n",
        "\n",
        "if salary >= 3000 and credit_score >= 650:\n",
        "    print(\"Loan Approved\")\n",
        "else:\n",
        "    print(\"Loan Denied\")\n",
        "\n",
        "print(\"Salary: $\" + str(salary))\n",
        "print(\"Credit Score: \" + str(credit_score))\n",
        "print(\"Requirements: Salary of at least $3000 AND credit score of at least 650.\")"
      ],
      "id": "2M0s0bC40b9B"
    },
    {
      "cell_type": "markdown",
      "metadata": {
        "id": "I0WmTyFv0b9D"
      },
      "source": [
        "## Question 9 – Password Strength\n",
        "Write a Python code that checks if a password is strong, medium, or weak based on its length.\n",
        "If the password has fewer than 6 characters it is Weak, if it has 6 to 10 characters it is Medium, and if it has more than 10 characters it is Strong.\n",
        "Print the strength.\n",
        "Run the program with password = 'hello123'."
      ],
      "id": "I0WmTyFv0b9D"
    },
    {
      "cell_type": "code",
      "metadata": {
        "id": "Jm8fu7ft0b9E",
        "colab": {
          "base_uri": "https://localhost:8080/"
        },
        "outputId": "2e691085-452c-444b-d0a0-a505d9284a6f"
      },
      "execution_count": 35,
      "outputs": [
        {
          "output_type": "stream",
          "name": "stdout",
          "text": [
            "Password: hello123676788\n",
            "Password length: 14 characters\n",
            "Password strength: Strong\n"
          ]
        }
      ],
      "source": [
        "password = 'hello123'\n",
        "\n",
        "password_length = len(password)\n",
        "\n",
        "if password_length < 6:\n",
        "    strength = \"Weak\"\n",
        "elif password_length >= 6 and password_length <= 10:\n",
        "    strength = \"Medium\"\n",
        "else:\n",
        "    strength = \"Strong\"\n",
        "\n",
        "print(\"Password: \" + password)\n",
        "print(\"Password length: \" + str(password_length) + \" characters\")\n",
        "print(\"Password strength: \" + strength)"
      ],
      "id": "Jm8fu7ft0b9E"
    },
    {
      "cell_type": "markdown",
      "metadata": {
        "id": "kgKSm4WB0b9F"
      },
      "source": [
        "## Question 10 – Guest List Checker\n",
        "Write a Python code that creates a list with three invited guests.\n",
        "Define a variable for a guest name.\n",
        "Check if the guest name is in the list.\n",
        "If the guest is in the list print Welcome, and if the guest is not in the list print Not on the list.\n",
        "Run the program with guest = 'Sara'."
      ],
      "id": "kgKSm4WB0b9F"
    },
    {
      "cell_type": "code",
      "metadata": {
        "id": "4pyiTbMT0b9G",
        "colab": {
          "base_uri": "https://localhost:8080/"
        },
        "outputId": "c362390b-115e-40b5-ff2b-fdbfd676deeb"
      },
      "execution_count": 36,
      "outputs": [
        {
          "output_type": "stream",
          "name": "stdout",
          "text": [
            "Welcome, Sara!\n",
            "Invited Guests: ['John', 'Jane', 'Sara']\n",
            "Guest: Sara\n"
          ]
        }
      ],
      "source": [
        "invited_guests = ['John', 'Jane', 'Sara']\n",
        "guest = 'Sara'\n",
        "\n",
        "if guest in invited_guests:\n",
        "    print(\"Welcome, \" + guest + \"!\")\n",
        "else:\n",
        "    print(\"Not on the list\")\n",
        "\n",
        "print(\"Invited Guests: \" + str(invited_guests))\n",
        "print(\"Guest: \" + guest)"
      ],
      "id": "4pyiTbMT0b9G"
    }
  ],
  "metadata": {
    "kernelspec": {
      "display_name": "Python 3",
      "language": "python",
      "name": "python3"
    },
    "language_info": {
      "name": "python",
      "version": "3.x"
    },
    "colab": {
      "provenance": [],
      "include_colab_link": true
    }
  },
  "nbformat": 4,
  "nbformat_minor": 5
}