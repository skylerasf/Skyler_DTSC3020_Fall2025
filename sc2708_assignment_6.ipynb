{
  "cells": [
    {
      "cell_type": "markdown",
      "metadata": {
        "id": "view-in-github",
        "colab_type": "text"
      },
      "source": [
        "<a href=\"https://colab.research.google.com/github/skylerasf/Skyler_DTSC3020_Fall2025/blob/main/sc2708_assignment_6.ipynb\" target=\"_parent\"><img src=\"https://colab.research.google.com/assets/colab-badge.svg\" alt=\"Open In Colab\"/></a>"
      ]
    },
    {
      "cell_type": "markdown",
      "source": [
        "#DTSC 3020 – Assignment 4\n",
        "Chapter 6 – Dictionaries\n",
        "\n",
        "Total points: 4\n",
        "\n",
        "Deadline: Friday at midnight\n",
        "\n",
        "Submission: Upload your Python file to your GitHub repository and submit only your GitHub link.\n",
        "\n",
        "\n",
        "Expectations\n",
        "Write complete answers and run all cells before submission.\n",
        "Keep the notebook clean (no unnecessary code)."
      ],
      "metadata": {
        "id": "-astqhkqk-sA"
      },
      "id": "-astqhkqk-sA"
    },
    {
      "cell_type": "markdown",
      "source": [
        "Exercise  1: Find and print the student with the lowest grade."
      ],
      "metadata": {
        "id": "Iu8c7M_Rk9AH"
      },
      "id": "Iu8c7M_Rk9AH"
    },
    {
      "cell_type": "code",
      "source": [
        "grades = {\n",
        "    'Ali': 17,\n",
        "    'Sara': 19,\n",
        "    'Reza': 18.5,\n",
        "    'Lina': 20,\n",
        "    'Omid': 16\n",
        "}\n",
        "\n",
        "# Write your code here:\n",
        "lowest_grade = min(grades.values())\n",
        "for name, grade in grades.items():\n",
        "  if grade == lowest_grade:\n",
        "    print(name)\n",
        "\n",
        "\n",
        "\n"
      ],
      "metadata": {
        "id": "qL5VY2kIk4Nc",
        "colab": {
          "base_uri": "https://localhost:8080/"
        },
        "outputId": "08f1ea56-96d3-42a0-ba96-97263111a21d"
      },
      "id": "qL5VY2kIk4Nc",
      "execution_count": null,
      "outputs": [
        {
          "output_type": "stream",
          "name": "stdout",
          "text": [
            "Lina\n"
          ]
        }
      ]
    },
    {
      "cell_type": "markdown",
      "source": [
        "Exercise 2: print names of students who registered for any course containing \"Data\""
      ],
      "metadata": {
        "id": "y880yRq6k58C"
      },
      "id": "y880yRq6k58C"
    },
    {
      "cell_type": "code",
      "source": [
        "courses = {\n",
        "    'Ali': ['Python', 'Math'],\n",
        "    'Sara': ['Data Mining', 'Chemistry'],\n",
        "    'Reza': ['Machine Learning', 'Data Science'],\n",
        "    'Lina': ['English', 'History']\n",
        "}\n",
        "\n",
        "# Write your code here:\n",
        "for name, course in courses.items():\n",
        "  for c in course:\n",
        "    if 'Data' in c:\n",
        "      print(name)\n",
        "      break"
      ],
      "metadata": {
        "id": "tFfys48Iodlr",
        "colab": {
          "base_uri": "https://localhost:8080/"
        },
        "outputId": "d46ff0a1-bcf2-41a8-c878-60cb9db7177d"
      },
      "id": "tFfys48Iodlr",
      "execution_count": null,
      "outputs": [
        {
          "output_type": "stream",
          "name": "stdout",
          "text": [
            "Sara\n",
            "Reza\n"
          ]
        }
      ]
    },
    {
      "cell_type": "markdown",
      "source": [
        "Exercise 3: Print titles of books that are not available."
      ],
      "metadata": {
        "id": "nUG5vQjeoWWE"
      },
      "id": "nUG5vQjeoWWE"
    },
    {
      "cell_type": "code",
      "source": [
        "library = {\n",
        "    'Python101': {'pages': 180, 'available': True},\n",
        "    'AI Basics': {'pages': 130, 'available': False},\n",
        "    'Math Advanced': {'pages': 200, 'available': False},\n",
        "    'Statistics': {'pages': 175, 'available': True}\n",
        "}\n",
        "\n",
        "# Write your code here:\n",
        "for title, book in library.items():\n",
        "  if book['available'] == False:\n",
        "    print(title)\n",
        "\n",
        "\n"
      ],
      "metadata": {
        "id": "2kFBzKyloecs",
        "colab": {
          "base_uri": "https://localhost:8080/"
        },
        "outputId": "669f1632-520d-40e4-d6de-f24e93e4aaf7"
      },
      "id": "2kFBzKyloecs",
      "execution_count": 1,
      "outputs": [
        {
          "output_type": "stream",
          "name": "stdout",
          "text": [
            "AI Basics\n",
            "Math Advanced\n"
          ]
        }
      ]
    },
    {
      "cell_type": "markdown",
      "source": [
        "Exercise 4: Print names of students who are registered for more than 2 courses.\n"
      ],
      "metadata": {
        "id": "HA_jFJ3Ro2FJ"
      },
      "id": "HA_jFJ3Ro2FJ"
    },
    {
      "cell_type": "code",
      "source": [
        "\n",
        "registrations = {\n",
        "    'Ali': ['Python', 'Math'],\n",
        "    'Sara': ['Biology', 'Chemistry', 'Math'],\n",
        "    'Reza': ['English'],\n",
        "    'Lina': ['History', 'Physics', 'Geography', 'Art']\n",
        "}\n",
        "\n",
        "# Write your code here:\n",
        "for name, course in registrations.items():\n",
        "  if len(course) > 2:\n",
        "    print(name)\n"
      ],
      "metadata": {
        "id": "vYXKqs-jk43C",
        "colab": {
          "base_uri": "https://localhost:8080/"
        },
        "outputId": "0342bbeb-0c5c-4301-e8d4-8048fc930beb"
      },
      "id": "vYXKqs-jk43C",
      "execution_count": 2,
      "outputs": [
        {
          "output_type": "stream",
          "name": "stdout",
          "text": [
            "Sara\n",
            "Lina\n"
          ]
        }
      ]
    },
    {
      "cell_type": "markdown",
      "source": [
        "Exercise 5: Calculate and print the average grade of the class."
      ],
      "metadata": {
        "id": "ZR7nhc-BpHvx"
      },
      "id": "ZR7nhc-BpHvx"
    },
    {
      "cell_type": "code",
      "source": [
        "grades = {\n",
        "    'Ali': 17,\n",
        "    'Sara': 19,\n",
        "    'Reza': 18.5,\n",
        "    'Lina': 20,\n",
        "    'Omid': 16\n",
        "}\n",
        "\n",
        "# Write your code here:\n",
        "sum = 0\n",
        "for grade in grades.values():\n",
        "  sum += grade\n",
        "print(sum/len(grades))\n",
        "\n"
      ],
      "metadata": {
        "id": "6Xbt2zE8pGNJ",
        "colab": {
          "base_uri": "https://localhost:8080/"
        },
        "outputId": "c1883208-f5b7-48b3-fc1d-7a1ee1ca1ed1"
      },
      "id": "6Xbt2zE8pGNJ",
      "execution_count": 3,
      "outputs": [
        {
          "output_type": "stream",
          "name": "stdout",
          "text": [
            "18.1\n"
          ]
        }
      ]
    },
    {
      "cell_type": "markdown",
      "source": [
        "Exercise 6: Count and print the number of students registered for \"Python\".\n"
      ],
      "metadata": {
        "id": "U33R5aWYpev_"
      },
      "id": "U33R5aWYpev_"
    },
    {
      "cell_type": "code",
      "source": [
        "courses = {\n",
        "    'Ali': ['Python', 'Math'],\n",
        "    'Sara': ['Biology', 'Chemistry'],\n",
        "    'Reza': ['Python', 'AI'],\n",
        "    'Lina': ['English', 'History'],\n",
        "    'Omid': ['Python']\n",
        "}\n",
        "\n",
        "# Write your code here:\n",
        "count = 0\n",
        "for course in courses.values():\n",
        "  if 'Python' in course:\n",
        "    count += 1\n",
        "print(count)\n",
        "\n"
      ],
      "metadata": {
        "id": "Wcjq96gVpliQ",
        "colab": {
          "base_uri": "https://localhost:8080/"
        },
        "outputId": "04b6c2b2-ceeb-4c3a-d184-09f50f3b9ac8"
      },
      "id": "Wcjq96gVpliQ",
      "execution_count": 4,
      "outputs": [
        {
          "output_type": "stream",
          "name": "stdout",
          "text": [
            "3\n"
          ]
        }
      ]
    },
    {
      "cell_type": "markdown",
      "source": [
        "Exercise 7: Print titles of books with more than 200 pages."
      ],
      "metadata": {
        "id": "2tAWS80-p75f"
      },
      "id": "2tAWS80-p75f"
    },
    {
      "cell_type": "code",
      "source": [
        "book_pages = {\n",
        "    'Python101': 180,\n",
        "    'AI Basics': 230,\n",
        "    'Math Advanced': 250,\n",
        "    'Statistics': 190,\n",
        "    'Data Science': 300\n",
        "}\n",
        "\n",
        "\n",
        "# write your answer here\n",
        "for title, pages in book_pages.items():\n",
        "  if pages > 200:\n",
        "    print(title)\n",
        "\n"
      ],
      "metadata": {
        "id": "OxMTnraWp8Pf",
        "colab": {
          "base_uri": "https://localhost:8080/"
        },
        "outputId": "a910cb89-0a65-45c3-bde3-36df33684624"
      },
      "id": "OxMTnraWp8Pf",
      "execution_count": 5,
      "outputs": [
        {
          "output_type": "stream",
          "name": "stdout",
          "text": [
            "AI Basics\n",
            "Math Advanced\n",
            "Data Science\n"
          ]
        }
      ]
    },
    {
      "cell_type": "markdown",
      "source": [
        "Exercise 8: Print each student's name and number of registered courses.\n"
      ],
      "metadata": {
        "id": "DTw2a77lqOL1"
      },
      "id": "DTw2a77lqOL1"
    },
    {
      "cell_type": "code",
      "source": [
        "courses = {\n",
        "    'Ali': ['Python', 'Math'],\n",
        "    'Sara': ['Biology', 'Chemistry'],\n",
        "    'Reza': ['Python', 'AI'],\n",
        "    'Lina': ['English', 'History'],\n",
        "    'Omid': ['Python']\n",
        "}\n",
        "\n",
        "# Write your code here:\n",
        "for name, course in courses.items():\n",
        "  print(name, len(course))\n"
      ],
      "metadata": {
        "id": "hFURuXPTqL8Y",
        "colab": {
          "base_uri": "https://localhost:8080/"
        },
        "outputId": "f6c69801-584f-41b7-a773-43a961dd046e"
      },
      "id": "hFURuXPTqL8Y",
      "execution_count": 6,
      "outputs": [
        {
          "output_type": "stream",
          "name": "stdout",
          "text": [
            "Ali 2\n",
            "Sara 2\n",
            "Reza 2\n",
            "Lina 2\n",
            "Omid 1\n"
          ]
        }
      ]
    },
    {
      "cell_type": "markdown",
      "source": [],
      "metadata": {
        "id": "3lHxe4qMqLm1"
      },
      "id": "3lHxe4qMqLm1"
    }
  ],
  "metadata": {
    "colab": {
      "provenance": [],
      "include_colab_link": true
    },
    "language_info": {
      "name": "python"
    },
    "kernelspec": {
      "name": "python3",
      "display_name": "Python 3"
    }
  },
  "nbformat": 4,
  "nbformat_minor": 5
}