{
  "nbformat": 4,
  "nbformat_minor": 0,
  "metadata": {
    "colab": {
      "provenance": [],
      "authorship_tag": "ABX9TyOdQMFV7CSl9GbQh2YXnuRl",
      "include_colab_link": true
    },
    "kernelspec": {
      "name": "python3",
      "display_name": "Python 3"
    },
    "language_info": {
      "name": "python"
    }
  },
  "cells": [
    {
      "cell_type": "markdown",
      "metadata": {
        "id": "view-in-github",
        "colab_type": "text"
      },
      "source": [
        "<a href=\"https://colab.research.google.com/github/skylerasf/Skyler_DTSC3020_Fall2025/blob/main/assignment2_%3Csc2708%3E.ipynb\" target=\"_parent\"><img src=\"https://colab.research.google.com/assets/colab-badge.svg\" alt=\"Open In Colab\"/></a>"
      ]
    },
    {
      "cell_type": "code",
      "execution_count": 3,
      "metadata": {
        "colab": {
          "base_uri": "https://localhost:8080/"
        },
        "id": "4LAD6itAy69Y",
        "outputId": "18980dc5-cc6c-4197-faa8-8e0d63e2bc53"
      },
      "outputs": [
        {
          "output_type": "stream",
          "name": "stdout",
          "text": [
            "['apple', 'bannana', 'kiwi']\n",
            "apple\n",
            "bannana\n",
            "kiwi\n"
          ]
        }
      ],
      "source": [
        "fruits = [\"apple\", \"bannana\", \"kiwi\"]\n",
        "print(fruits)\n",
        "print(fruits[0])\n",
        "print(fruits[1])\n",
        "print(fruits[-1])"
      ]
    },
    {
      "cell_type": "code",
      "source": [
        "names = [\"john\", \"jack\", \"jason\", \"james\"]\n",
        "names[-1] = \"jeremy\"\n",
        "print(names)"
      ],
      "metadata": {
        "colab": {
          "base_uri": "https://localhost:8080/"
        },
        "id": "Z2oETcYpzpBN",
        "outputId": "dcb1f007-f2ac-43d4-af5b-503ec7f82183"
      },
      "execution_count": 5,
      "outputs": [
        {
          "output_type": "stream",
          "name": "stdout",
          "text": [
            "['john', 'jack', 'jason', 'jeremy']\n"
          ]
        }
      ]
    },
    {
      "cell_type": "code",
      "source": [
        "vehicles = [\"sedan\", \"coupe\", \"convertible\", \"suv\", \"hatchback\"]\n",
        "vehicles.append(\"minivan\")\n",
        "print(vehicles)"
      ],
      "metadata": {
        "colab": {
          "base_uri": "https://localhost:8080/"
        },
        "id": "mP-Iq6VJ0C03",
        "outputId": "b37ca146-69f2-461b-9e51-f7f6b075407e"
      },
      "execution_count": 6,
      "outputs": [
        {
          "output_type": "stream",
          "name": "stdout",
          "text": [
            "['sedan', 'coupe', 'convertible', 'suv', 'hatchback', 'minivan']\n"
          ]
        }
      ]
    },
    {
      "cell_type": "code",
      "source": [
        "foods = [\"pizza\", \"pasta\", \"sandwich\", \"soup\", \"salad\", \"burrito\"]\n",
        "foods.remove(\"soup\")\n",
        "print(foods)"
      ],
      "metadata": {
        "colab": {
          "base_uri": "https://localhost:8080/"
        },
        "id": "OpebfOL60jLx",
        "outputId": "dac3a870-72c9-4c41-cce4-af00262d8427"
      },
      "execution_count": 10,
      "outputs": [
        {
          "output_type": "stream",
          "name": "stdout",
          "text": [
            "['pizza', 'pasta', 'sandwich', 'salad', 'burrito']\n"
          ]
        }
      ]
    },
    {
      "cell_type": "code",
      "source": [
        "city = [\"dallas\", \"berlin\", \"kyoto\", \"new delhi\"]\n",
        "city.sort()\n",
        "print(city)\n",
        "city.reverse()\n",
        "print(city)"
      ],
      "metadata": {
        "colab": {
          "base_uri": "https://localhost:8080/"
        },
        "id": "wDMoheGi1MyD",
        "outputId": "2b81da24-cfa4-4a7b-fb2b-42fb0e201f20"
      },
      "execution_count": 14,
      "outputs": [
        {
          "output_type": "stream",
          "name": "stdout",
          "text": [
            "['berlin', 'dallas', 'kyoto', 'new delhi']\n",
            "['new delhi', 'kyoto', 'dallas', 'berlin']\n"
          ]
        }
      ]
    },
    {
      "cell_type": "code",
      "source": [
        "animals = [\"dog\", \"cat\", \"fish\"]\n",
        "for animal in animals:\n",
        "  print(animal)"
      ],
      "metadata": {
        "colab": {
          "base_uri": "https://localhost:8080/"
        },
        "id": "tPp9MVS01rpy",
        "outputId": "ac48ef6d-5734-46f1-c631-d4451520d82d"
      },
      "execution_count": 18,
      "outputs": [
        {
          "output_type": "stream",
          "name": "stdout",
          "text": [
            "dog\n",
            "cat\n",
            "fish\n"
          ]
        }
      ]
    },
    {
      "cell_type": "code",
      "source": [
        "numbers = [1, 2, 3, 4, 5]\n",
        "new_numbers = []\n",
        "for item in numbers:\n",
        "  new_numbers.append(item * 2)\n",
        "print(new_numbers)"
      ],
      "metadata": {
        "colab": {
          "base_uri": "https://localhost:8080/"
        },
        "id": "ok8I4WFm2Tvv",
        "outputId": "24dab4b9-0a93-4e7c-f1b3-c8d0fb96e2f1"
      },
      "execution_count": 21,
      "outputs": [
        {
          "output_type": "stream",
          "name": "stdout",
          "text": [
            "[2, 4, 6, 8, 10]\n"
          ]
        }
      ]
    },
    {
      "cell_type": "code",
      "source": [
        "friends = [\"alex\", \"matthew\", \"damian\", \"nate\", \"troy\", \"danny\"]\n",
        "print(friends[0:3])\n",
        "print(friends[3:6])"
      ],
      "metadata": {
        "colab": {
          "base_uri": "https://localhost:8080/"
        },
        "id": "9nMeO3GI24Wi",
        "outputId": "d07b538d-200b-418d-c52f-3be1d8b45863"
      },
      "execution_count": 27,
      "outputs": [
        {
          "output_type": "stream",
          "name": "stdout",
          "text": [
            "['alex', 'matthew', 'damian']\n",
            "['nate', 'troy', 'danny']\n"
          ]
        }
      ]
    },
    {
      "cell_type": "code",
      "source": [
        "number_list = list(range(1, 11, 1))\n",
        "print(number_list)"
      ],
      "metadata": {
        "colab": {
          "base_uri": "https://localhost:8080/"
        },
        "id": "bAf3kobG3YjT",
        "outputId": "51eb45af-8db5-4b7f-8dac-512ba90eff77"
      },
      "execution_count": 30,
      "outputs": [
        {
          "output_type": "stream",
          "name": "stdout",
          "text": [
            "[1, 2, 3, 4, 5, 6, 7, 8, 9, 10]\n"
          ]
        }
      ]
    },
    {
      "cell_type": "code",
      "source": [
        "numbers = [1, 2, 3, 4, 5]\n",
        "squares = [num * num for num in numbers]\n",
        "print(squares)"
      ],
      "metadata": {
        "colab": {
          "base_uri": "https://localhost:8080/"
        },
        "id": "gQgYdV2a3zEI",
        "outputId": "a5b903b3-85b7-4ade-c611-7371dff2fd11"
      },
      "execution_count": 31,
      "outputs": [
        {
          "output_type": "stream",
          "name": "stdout",
          "text": [
            "[1, 4, 9, 16, 25]\n"
          ]
        }
      ]
    }
  ]
}